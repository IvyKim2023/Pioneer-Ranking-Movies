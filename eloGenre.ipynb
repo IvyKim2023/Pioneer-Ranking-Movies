{
 "cells": [
  {
   "cell_type": "markdown",
   "metadata": {},
   "source": [
    "## Elo Rating Movie method\n",
    "\n",
    "This is the Elo method applied to movies assumed to be in the Movielens dataset format.  \n",
    "\n",
    "https://grouplens.org/datasets/movielens/\n",
    "\n"
   ]
  },
  {
   "cell_type": "code",
   "execution_count": 1,
   "metadata": {},
   "outputs": [],
   "source": [
    "import math \n",
    "  \n",
    "# Function to calculate the Probability \n",
    "def Probability(rating1, rating2): \n",
    "  \n",
    "    return 1.0 * 1.0 / (1 + 1.0 * math.pow(10, 1.0 * (rating1 - rating2) / 1000)) \n",
    "  \n",
    "# Function to calculate Elo rating \n",
    "# K is a constant. \n",
    "# Player A wins over Player B.  \n",
    "# tie = true if tie, false otherwise\n",
    "def EloRating(Ra, Rb, K, tie): \n",
    "    \n",
    "    # To calculate the Winning \n",
    "    # Probability of Player B \n",
    "    Pb = Probability(Ra, Rb) \n",
    "  \n",
    "    # To calculate the Winning \n",
    "    # Probability of Player A \n",
    "    Pa = Probability(Rb, Ra) \n",
    "  \n",
    "    # Updating the Elo Ratings \n",
    "    if tie:\n",
    "       Ra = Ra + K * (1/2 - Pa) \n",
    "       Rb = Rb + K * (1/2 - Pb) \n",
    "    else:        \n",
    "       Ra = Ra + K * (1 - Pa) \n",
    "       Rb = Rb + K * (0 - Pb) \n",
    "    \n",
    "    return Ra, Rb"
   ]
  },
  {
   "cell_type": "markdown",
   "metadata": {},
   "source": [
    "### Load libraries "
   ]
  },
  {
   "cell_type": "code",
   "execution_count": 18,
   "metadata": {},
   "outputs": [],
   "source": [
    "import pandas as pd\n",
    "import numpy as np\n",
    "\n",
    "userMovie = np.load('userMovieMatrix.npy')\n",
    "\n",
    "numberUsers, numberGenreMovies = userMovie.shape\n",
    "\n",
    "genreFilename = 'action.csv'\n",
    "genre = pd.read_csv(genreFilename)"
   ]
  },
  {
   "cell_type": "markdown",
   "metadata": {},
   "source": [
    "### Create Elo ratings\n",
    "\n",
    "Note, a movie competes over one users ratings. As such, the games are row-wise for all pairs of nonzero entries. "
   ]
  },
  {
   "cell_type": "code",
   "execution_count": 11,
   "metadata": {},
   "outputs": [],
   "source": [
    "eloRatings = np.zeros(numberGenreMovies)\n",
    "\n",
    "for i in range(numberUsers):\n",
    "    for j in range(numberGenreMovies):\n",
    "        if (userMovie[i,j] != 0): # then there are games\n",
    "            for k in range(j+1,numberGenreMovies):\n",
    "                team1ID = j\n",
    "                team1Score = userMovie[i,j]\n",
    "                if (userMovie[i,k] != 0): # then there is a game between movie j and k\n",
    "                    team2ID = k\n",
    "                    team2Score = userMovie[i,k]\n",
    "\n",
    "                    if team1Score > team2Score:\n",
    "                        team1Rating, team2Rating = EloRating(eloRatings[team1ID], eloRatings[team2ID], 32, False)\n",
    "                    elif team1Score < team2Score:\n",
    "                        team2Rating, team1Rating = EloRating(eloRatings[team2ID], eloRatings[team1ID], 32, False)\n",
    "                    else: # there is a tie \n",
    "                        team1Rating, team2Rating = EloRating(eloRatings[team1ID], eloRatings[team2ID], 32, True)\n",
    "\n",
    "                    eloRatings[team1ID] = team1Rating\n",
    "                    eloRatings[team2ID] = team2Rating"
   ]
  },
  {
   "cell_type": "markdown",
   "metadata": {},
   "source": [
    "### Sort and print the ranking of teams"
   ]
  },
  {
   "cell_type": "code",
   "execution_count": null,
   "metadata": {},
   "outputs": [],
   "source": [
    "iSort = np.argsort(-eloRatings)\n",
    "\n",
    "# Remove movies with no ratings, find total ratings by column sums \n",
    "totalMovieRatings = np.sum(userMovie,0)\n",
    "\n",
    "print('\\n\\n************** ELO Rating Method **************\\n')\n",
    "print('===========================')\n",
    "print('Rank     Rating  Movie   ')\n",
    "print('===========================')\n",
    "rank = 1\n",
    "for i in range(numberGenreMovies):\n",
    "#    movieID = movieToMatrix[iSort[i]]\n",
    "#    idx = movies.index[movies['movieId']==movieID][0]\n",
    "    if (totalMovieRatings[iSort[i]] != 0):  # if the movie has at least 1 rating\n",
    "        print(f'{rank:4d} {eloRatings[iSort[i]]:10.3f}  {genre.at[iSort[i],\"title\"]}')        \n",
    "        rank += 1\n",
    "        \n",
    "print('')   # extra carriage return\n",
    "\n",
    "print('Total films with ratings: %d' % len(np.where(totalMovieRatings!=0)[0]))\n",
    "print('Total films in genre: %d' % numberGenreMovies)"
   ]
  },
  {
   "cell_type": "code",
   "execution_count": null,
   "metadata": {},
   "outputs": [],
   "source": []
  }
 ],
 "metadata": {
  "kernelspec": {
   "display_name": "Python 3 (ipykernel)",
   "language": "python",
   "name": "python3"
  },
  "language_info": {
   "codemirror_mode": {
    "name": "ipython",
    "version": 3
   },
   "file_extension": ".py",
   "mimetype": "text/x-python",
   "name": "python",
   "nbconvert_exporter": "python",
   "pygments_lexer": "ipython3",
   "version": "3.11.5"
  }
 },
 "nbformat": 4,
 "nbformat_minor": 4
}
