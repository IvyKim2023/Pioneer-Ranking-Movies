{
 "cells": [
  {
   "cell_type": "markdown",
   "id": "63fef9ee-e2fc-412d-a2c5-52ef6ad28af7",
   "metadata": {},
   "source": [
    "### Make user-movie matrix \n",
    "\n",
    "This makes the user-movie matrix from MovieLens data and saves the file.\n",
    "This filters for the genre filename. "
   ]
  },
  {
   "cell_type": "code",
   "execution_count": null,
   "id": "47a5ceb5-c398-47be-8002-483f444d5d96",
   "metadata": {},
   "outputs": [],
   "source": [
    "# Set output file\n",
    "outputFilename = 'userMovieMatrixAction'\n",
    "\n",
    "# Set the input files\n",
    "ratingsFilename = 'ml-25m/ratings.csv'\n",
    "moviesFilename = 'ml-25m/movies.csv'\n",
    "genreFilename = 'action.csv'\n",
    "\n",
    "# Load the ratings and movies into dataframes\n",
    "import pandas as pd\n",
    "import numpy as np\n",
    "\n",
    "ratings = pd.read_csv(ratingsFilename)\n",
    "numberRatings = len(ratings)\n",
    "#print(ratings)\n",
    "\n",
    "movies = pd.read_csv(moviesFilename)\n",
    "genre = pd.read_csv(genreFilename)\n",
    "\n",
    "# Create user by movie matrix\n",
    "numberUsers = max(ratings['userId'])\n",
    "movieToMatrix = ratings['movieId'].unique() # There are way more movieIDs than actual rated movies\n",
    "numberMovies = len(movieToMatrix)\n",
    "numberOfGenreMovies = len(genre)\n",
    "userMovie = np.zeros((numberUsers,numberOfGenreMovies))\n",
    "\n",
    "for i in range(numberRatings):\n",
    "    movieIndex = np.where(movieToMatrix == ratings['movieId'][i])[0][0]\n",
    "    findMovieID = np.where(genre['movieId'] == movieIndex)[0]\n",
    "    if len(findMovieID > 0):\n",
    "        columnOfMatrix = np.where(genre['movieId'] == movieIndex)[0][0]\n",
    "        userMovie[ratings['userId'][i] - 1][columnOfMatrix] = ratings['rating'][i]\n",
    "    if (i% 1000000 == 0):\n",
    "        print('On rating ' + str(i))\n",
    "\n",
    "print('Done!!!!!')\n",
    "\n",
    "np.save(outputFilename,userMovie)"
   ]
  }
 ],
 "metadata": {
  "kernelspec": {
   "display_name": "Python 3 (ipykernel)",
   "language": "python",
   "name": "python3"
  },
  "language_info": {
   "codemirror_mode": {
    "name": "ipython",
    "version": 3
   },
   "file_extension": ".py",
   "mimetype": "text/x-python",
   "name": "python",
   "nbconvert_exporter": "python",
   "pygments_lexer": "ipython3",
   "version": "3.11.5"
  }
 },
 "nbformat": 4,
 "nbformat_minor": 5
}
