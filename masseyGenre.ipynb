{
 "cells": [
  {
   "cell_type": "markdown",
   "metadata": {},
   "source": [
    "## Massey Rating Movie method within Genre\n",
    "\n",
    "This is the Massey method applied to movies assumed to be in the Movielens dataset format.  See:\n",
    "\n",
    "https://grouplens.org/datasets/movielens/\n",
    "\n",
    "The userMovie matrix has already been created with makeUserMovieMatrix.ipynb."
   ]
  },
  {
   "cell_type": "markdown",
   "metadata": {},
   "source": [
    "### Load the ratings and movies into dataframes"
   ]
  },
  {
   "cell_type": "code",
   "execution_count": 1,
   "metadata": {},
   "outputs": [],
   "source": [
    "import pandas as pd\n",
    "import numpy as np\n",
    "\n",
    "userMovie = np.load('userMovieMatrixAction.npy')\n",
    "\n",
    "numberUsers, numberGenreMovies = userMovie.shape\n",
    "\n",
    "genreFilename = 'action.csv'\n",
    "genre = pd.read_csv(genreFilename)"
   ]
  },
  {
   "cell_type": "markdown",
   "metadata": {},
   "source": [
    "### Create Massey ratings\n",
    "\n",
    "Note, a movie competes over one users ratings. As such, the games are row-wise for all pairs of nonzero entries. "
   ]
  },
  {
   "cell_type": "code",
   "execution_count": 4,
   "metadata": {},
   "outputs": [],
   "source": [
    "masseyMatrix = np.diag(np.ones(numberGenreMovies))\n",
    "b = np.ones(numberGenreMovies)\n",
    "\n",
    "for i in range(numberUsers):\n",
    "    for j in range(numberGenreMovies):\n",
    "        if (userMovie[i,j] != 0): # then there are games\n",
    "            for k in range(j+1,numberGenreMovies):\n",
    "                team1ID = j\n",
    "                team1Score = userMovie[i,j]\n",
    "                if (userMovie[i,k] != 0): # then there is a game between movie j and k\n",
    "                    team2ID = k\n",
    "                    team2Score = userMovie[i,k]\n",
    "\n",
    "                    masseyMatrix[team1ID, team2ID] -= 1\n",
    "                    masseyMatrix[team2ID, team1ID] -= 1\n",
    "\n",
    "                    masseyMatrix[team1ID, team1ID] += 1\n",
    "                    masseyMatrix[team2ID, team2ID] += 1\n",
    "\n",
    "                    pointDifferential = abs(team1Score - team2Score)\n",
    "\n",
    "                    if team1Score > team2Score:\n",
    "                        b[team1ID] += pointDifferential\n",
    "                        b[team2ID] -= pointDifferential\n",
    "                    elif team1Score < team2Score:\n",
    "                        b[team1ID] -= pointDifferential\n",
    "                        b[team2ID] += pointDifferential\n",
    "        \n",
    "# replace last row with ones and 0 on RHS\n",
    "masseyMatrix[-1,:] = np.ones((1,numberGenreMovies))\n",
    "b[-1] = 0"
   ]
  },
  {
   "cell_type": "markdown",
   "metadata": {},
   "source": [
    "### Sort and print the ranking of teams"
   ]
  },
  {
   "cell_type": "code",
   "execution_count": null,
   "metadata": {},
   "outputs": [],
   "source": [
    "r = np.linalg.solve(masseyMatrix,b)\n",
    "iSort = np.argsort(-r)\n",
    "\n",
    "# Remove movies with no ratings, find total ratings by column sums \n",
    "totalMovieRatings = np.sum(userMovie,0)\n",
    "\n",
    "print('\\n\\n************** Massey Rating Method **************\\n')\n",
    "print('===========================')\n",
    "print('Rank       Rating  Movie   ')\n",
    "print('===========================')\n",
    "rank = 1\n",
    "for i in range(numberGenreMovies):\n",
    "    if (totalMovieRatings[iSort[i]] != 0):  # if the movie has at least 1 rating\n",
    "        print(f'{rank:4d} {r[iSort[i]]:10.3f}  {genre.at[iSort[i],\"title\"]}')        \n",
    "        rank += 1\n",
    "        \n",
    "print('')   # extra carriage return\n",
    "\n",
    "print('Total films with ratings: %d' % len(np.where(totalMovieRatings!=0)[0]))\n",
    "print('Total films in genre: %d' % numberGenreMovies)"
   ]
  }
 ],
 "metadata": {
  "kernelspec": {
   "display_name": "Python 3.8",
   "language": "python",
   "name": "python3"
  },
  "language_info": {
   "codemirror_mode": {
    "name": "ipython",
    "version": 3
   },
   "file_extension": ".py",
   "mimetype": "text/x-python",
   "name": "python",
   "nbconvert_exporter": "python",
   "pygments_lexer": "ipython3",
   "version": "3.8.12"
  }
 },
 "nbformat": 4,
 "nbformat_minor": 4
}
